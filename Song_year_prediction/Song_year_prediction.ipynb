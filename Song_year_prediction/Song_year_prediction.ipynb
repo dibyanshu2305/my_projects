{
  "cells": [
    {
      "cell_type": "markdown",
      "source": [
        "### Dataset\n",
        "\n",
        "You can get the data set from the following URL: https://drive.google.com/drive/folders/1ZzDqVRtoNLrDHOB0lmbBwCVkpEZTl3FV?usp=share_link\n",
        "\n"
      ],
      "metadata": {
        "id": "TNdk2TYrkjqQ"
      },
      "id": "TNdk2TYrkjqQ"
    },
    {
      "cell_type": "code",
      "source": [
        "from google.colab import drive\n",
        "drive.mount('/content/drive')"
      ],
      "metadata": {
        "colab": {
          "base_uri": "https://localhost:8080/"
        },
        "id": "0ezhLs4Kp_kL",
        "outputId": "00459c65-1acb-44e2-af61-3dc96752c22e"
      },
      "id": "0ezhLs4Kp_kL",
      "execution_count": 1,
      "outputs": [
        {
          "output_type": "stream",
          "name": "stdout",
          "text": [
            "Mounted at /content/drive\n"
          ]
        }
      ]
    },
    {
      "cell_type": "code",
      "source": [
        "from audioop import bias\n",
        "import sys\n",
        "import os\n",
        "import numpy as np\n",
        "import pandas as pd\n",
        "np.random.seed(50)\n",
        "NUM_FEATS = 90"
      ],
      "metadata": {
        "id": "vaMTpW_nmU5D"
      },
      "id": "vaMTpW_nmU5D",
      "execution_count": 10,
      "outputs": []
    },
    {
      "cell_type": "markdown",
      "source": [
        "## Neural Network"
      ],
      "metadata": {
        "id": "tfpGe8onk-zQ"
      },
      "id": "tfpGe8onk-zQ"
    },
    {
      "cell_type": "code",
      "execution_count": 2,
      "id": "a5e8c9c5",
      "metadata": {
        "id": "a5e8c9c5"
      },
      "outputs": [],
      "source": [
        "class Net(object):\n",
        "\tdef __init__(self, num_layers, num_units):\n",
        "\t\tself.num_layers = num_layers\n",
        "\t\tself.num_units = num_units\n",
        "\n",
        "\t\tself.biases = []\n",
        "\t\tself.weights = []\n",
        "\t\tfor i in range(num_layers):\n",
        "\n",
        "\t\t\tif i==0:\n",
        "\t\t\t\t# Input layer\n",
        "\t\t\t\tself.weights.append(np.random.uniform(-1, 1, size=(NUM_FEATS, self.num_units)))\n",
        "\t\t\telse:\n",
        "\t\t\t\t# Hidden layer\n",
        "\t\t\t\tself.weights.append(np.random.uniform(-1, 1, size=(self.num_units, self.num_units)))\n",
        "\n",
        "\t\t\tself.biases.append(np.random.uniform(-1, 1, size=(self.num_units, 1)))\n",
        "\n",
        "\t\t# Output layer\n",
        "\t\tself.biases.append(np.random.uniform(-1, 1, size=(1, 1)))\n",
        "\t\tself.weights.append(np.random.uniform(-1, 1, size=(self.num_units, 1)))\n",
        "\n",
        "\tdef __call__(self, X):\n",
        "\t\ta = X\n",
        "\t\tself.net = []\n",
        "\t\tself.O = []\n",
        "\t\th = []\n",
        "\t\tself.net.append(a)\n",
        "\t\tfor i,(w,b) in enumerate(zip(self.weights,self.biases)):\n",
        "\t\t\tself.O.append(a)\n",
        "\t\t\th = np.dot(a,w)+b.T\n",
        "\t\t\tself.net.append(h)\n",
        "\t\t\tif i<len(self.weights)-1:\n",
        "\t\t\t\ta = relu(h)\n",
        "\t\t\telse:\n",
        "\t\t\t\ta = sigmoid(h)\n",
        "\t\tself.pred = a\n",
        "\t\treturn self.pred\n",
        "\n",
        "\tdef backward(self, X, y, lamda):\n",
        "\t\tdelta_weights = []\n",
        "\t\tdelta_biases = []\n",
        "\n",
        "\t\tback_outs = []\n",
        "\t\tback_act_outs = []\n",
        "\n",
        "\t\tloss = (self.pred - y)\n",
        "\t\tbatch_size = y.shape[0]\n",
        "\t\tcur_layer = self.num_layers - 1\n",
        "\n",
        "\t\tback_outs.insert(0, loss)\n",
        "\t\tback_act_outs.insert(0, loss)\n",
        "\t\tdelta_weights.insert(0, (np.dot(self.O[cur_layer+1].T, back_outs[0])/batch_size)+lamda * self.weights[cur_layer+1])\n",
        "\t\tdelta_biases.insert(0, (np.array(np.sum(back_outs[0], axis=0).T))/batch_size )\n",
        "\t\tdelta_biases[0] = delta_biases[0].reshape(delta_biases[0].shape[0], 1)\n",
        "\t\tdelta_biases[0] = delta_biases[0] + lamda * self.biases[cur_layer+1]\n",
        "\n",
        "\t\tfor i in range(1, self.num_layers + 1):\n",
        "\t\t\tback_act_outs.insert(0, np.dot(back_outs[0], self.weights[cur_layer + 1].T))\n",
        "\t\t\tback_outs.insert(0, back_act_outs[0] * d_relu(self.O[cur_layer + 1]))\n",
        "\t\t\tdelta_weights.insert(0, (np.dot(self.O[cur_layer].T, back_outs[0])/batch_size)+lamda * self.weights[cur_layer])\n",
        "\t\t\tdelta_biases.insert(0, (np.array(np.sum(back_outs[0], axis=0).T))/batch_size )\n",
        "\t\t\tdelta_biases[0] = delta_biases[0].reshape(delta_biases[0].shape[0], 1)\n",
        "\t\t\tdelta_biases[0] = delta_biases[0] + lamda * self.biases[cur_layer]\n",
        "\t\t\tcur_layer = cur_layer - 1\n",
        "\t\t\n",
        "\t\treturn delta_weights, delta_biases"
      ]
    },
    {
      "cell_type": "markdown",
      "source": [
        "#### Optimizer Class"
      ],
      "metadata": {
        "id": "54KNZEB7mLML"
      },
      "id": "54KNZEB7mLML"
    },
    {
      "cell_type": "code",
      "source": [
        "class Optimizer(object):\n",
        "\tdef __init__(self, learning_rate):\n",
        "\t\tself.learning_rate = learning_rate\n",
        "\n",
        "\tdef step(self, weights, biases, delta_weights, delta_biases):\n",
        "\t\tfor index in range(len(weights)):\n",
        "\t\t\tweights[index] = weights[index] - self.learning_rate * delta_weights[index]\n",
        "\t\t\tbiases[index] = biases[index] - self.learning_rate * delta_biases[index]\n",
        "\t\t\n",
        "\t\treturn weights, biases"
      ],
      "metadata": {
        "id": "Ugpr7QY9mJL-"
      },
      "id": "Ugpr7QY9mJL-",
      "execution_count": 3,
      "outputs": []
    },
    {
      "cell_type": "markdown",
      "source": [
        "#### Loss functions"
      ],
      "metadata": {
        "id": "Zsfwr3Nvl0Xh"
      },
      "id": "Zsfwr3Nvl0Xh"
    },
    {
      "cell_type": "code",
      "source": [
        "def loss_mse(y, y_hat):\n",
        "\treturn np.sum((y-y_hat)**2)/len(y)\n",
        "\n",
        "def loss_regularization(weights, biases):\n",
        "\tloss = 0\n",
        "\tfor i in range(len(weights)):\n",
        "\t\tloss = loss + np.sum(np.square(weights[i])) + np.sum(np.square(biases[i]))\n",
        "\treturn loss\n",
        "\n",
        "def loss_fn(y, y_hat, weights, biases, lamda):\n",
        "\treturn loss_mse(y,y_hat) + (lamda * loss_regularization(weights, biases))\n",
        "\n",
        "def rmse(y, y_hat):\n",
        "\t#root[sum[(y-y_hat)^2/n]\n",
        "\tn = len(y)\n",
        "\treturn np.sqrt((np.sum(y-y_hat)**2)/n)"
      ],
      "metadata": {
        "id": "221unYdbl5Lt"
      },
      "id": "221unYdbl5Lt",
      "execution_count": 4,
      "outputs": []
    },
    {
      "cell_type": "markdown",
      "source": [
        "#### Activations"
      ],
      "metadata": {
        "id": "iJ96h8UOl-IA"
      },
      "id": "iJ96h8UOl-IA"
    },
    {
      "cell_type": "code",
      "source": [
        "def relu(X):\n",
        "\ta = np.maximum(X,0)\n",
        "\treturn a\n",
        "\n",
        "def d_relu(X):\n",
        "\tX[X <= 0] = 0\n",
        "\tX[X > 0] = 1\n",
        "\treturn X\n",
        "\n",
        "def aReLU(z):                 \n",
        "    return np.maximum(0.43*z,z)\n",
        "    \n",
        "def aReLUPrime(z):\n",
        "  a = 1*(z>0)\n",
        "  b = 0.43*(z<0)\n",
        "  c = 0.75*(z==0)\n",
        "  return a+b+c\n",
        "\n",
        "def sigmoid(z):               \n",
        "  return 1.0/(1.0 + np.exp(-z))"
      ],
      "metadata": {
        "id": "JwRVstavmBJk"
      },
      "id": "JwRVstavmBJk",
      "execution_count": 5,
      "outputs": []
    },
    {
      "cell_type": "markdown",
      "source": [
        "#### Data Scaling"
      ],
      "metadata": {
        "id": "_FmrhWvtlQhQ"
      },
      "id": "_FmrhWvtlQhQ"
    },
    {
      "cell_type": "code",
      "source": [
        "from sklearn import preprocessing\n",
        "min_max = preprocessing.MinMaxScaler()"
      ],
      "metadata": {
        "id": "ks5REMlpHcGu"
      },
      "id": "ks5REMlpHcGu",
      "execution_count": 6,
      "outputs": []
    },
    {
      "cell_type": "code",
      "source": [
        "def read_data():\n",
        "\t'''\n",
        "\tRead the train, dev, and test datasets\n",
        "\t'''\n",
        "\ttrain_input = pd.read_csv('/content/drive/MyDrive/regression/data/train.csv').iloc[:, 1:].to_numpy()\n",
        "\ttrain_input = min_max.fit_transform(train_input)\n",
        "\tdev_input = pd.read_csv('/content/drive/MyDrive/regression/data/dev.csv').iloc[:, 1:].to_numpy()\n",
        "\tdev_input = min_max.fit_transform(dev_input)\n",
        "\ttest_input = pd.read_csv('/content/drive/MyDrive/regression/data/test.csv').to_numpy()\n",
        "\ttest_input = min_max.fit_transform(test_input)\n",
        "\ttrain_target = pd.read_csv('/content/drive/MyDrive/regression/data/train.csv').iloc[:, 0].to_numpy()\n",
        "\ttrain_target = train_target.reshape(train_target.shape[0], 1)\n",
        "\ttrain_target = min_max.fit_transform(train_target)\n",
        "\tdev_target = pd.read_csv('/content/drive/MyDrive/regression/data/dev.csv').iloc[:, 0].to_numpy()\n",
        "\tdev_target = dev_target.reshape(dev_target.shape[0], 1)\n",
        "\tdev_target = min_max.fit_transform(dev_target)\n",
        "\t\n",
        "\treturn train_input, train_target, dev_input, dev_target, test_input"
      ],
      "metadata": {
        "id": "ecS_tc3vFuP_"
      },
      "id": "ecS_tc3vFuP_",
      "execution_count": 7,
      "outputs": []
    },
    {
      "cell_type": "markdown",
      "source": [
        "#### Training"
      ],
      "metadata": {
        "id": "KjLNMUvGlUu9"
      },
      "id": "KjLNMUvGlUu9"
    },
    {
      "cell_type": "code",
      "source": [
        "def train(net, optimizer, lamda, batch_size, max_epochs,train_input, train_target,dev_input, dev_target, test_input):\n",
        "\n",
        "\tm = train_input.shape[0]\n",
        "\tbatchloss = []\n",
        "\tepoch = []  \n",
        "\n",
        "\tfor e in range(max_epochs):\n",
        "\t\tepoch_loss = 0.\n",
        "\t\tfor i in range(0, m, batch_size):\n",
        "\t\t\tbatch_input = train_input[i:i+batch_size]\n",
        "\t\t\tbatch_target = train_target[i:i+batch_size]\n",
        "\t\t\tpred = net(batch_input)\n",
        "\n",
        "\t\t\t# Compute gradients of loss w.r.t. weights and biases\n",
        "\t\t\tdW, db = net.backward(batch_input, batch_target, lamda)\n",
        "\n",
        "\t\t\t# Get updated weights based on current weights and gradients\n",
        "\t\t\tweights_updated, biases_updated = optimizer.step(net.weights, net.biases, dW, db)\n",
        "\n",
        "\t\t\t# Update model's weights and biases\n",
        "\t\t\tnet.weights = weights_updated\n",
        "\t\t\tnet.biases = biases_updated\n",
        "\n",
        "\t\t\t# Compute loss for the batch\n",
        "\t\t\tbatch_loss = loss_fn(batch_target, pred, net.weights, net.biases, lamda)\n",
        "\t\t\tepoch_loss += batch_loss\n",
        "\t\tepoch.append(e)\n",
        "\t\tbatchloss.append(batch_loss)\n",
        "   \n",
        "\t\tprint('Epoch:',e,'Rmse loss:',rmse(batch_target, pred),'Batch Loss:', batch_loss)\n",
        "\tdev_pred = net(dev_input)\n",
        "\ttest_preds = net(test_input)\n",
        "\tdev_rmse = rmse(dev_target, dev_pred)\n",
        "\tprint('RMSE on dev data: {:.5f}'.format(dev_rmse))\n",
        "\treturn batchloss, epoch, test_preds, dev_target\n",
        "\n",
        " \n",
        " "
      ],
      "metadata": {
        "id": "j84IqC_Ptdog"
      },
      "id": "j84IqC_Ptdog",
      "execution_count": 8,
      "outputs": []
    },
    {
      "cell_type": "code",
      "source": [
        "def main():\n",
        "\n",
        "\t# Hyper-parameters \n",
        "\tmax_epochs = 100\n",
        "\tbatch_size = 32\n",
        "\tlearning_rate = 1e-4\n",
        "\tnum_layers = 7\n",
        "\tnum_units = 7\n",
        "\tlamda = 0.03 # Regularization Parameter\n",
        "\n",
        "\ttrain_input, train_target, dev_input, dev_target, test_input = read_data()\n",
        "\tnet = Net(num_layers, num_units)\n",
        "\toptimizer = Optimizer(learning_rate)\n",
        "\tbt_loss, epoch, test_preds, dev_pred = train(\n",
        "\t\tnet, optimizer, lamda, batch_size, max_epochs,\n",
        "\t\ttrain_input, train_target,dev_input, dev_target, test_input\n",
        "\t)\n",
        "\treturn net, bt_loss, epoch, test_preds, dev_target\n",
        "\n",
        "\n",
        "if __name__ == '__main__':\n",
        "\tnet, bt_loss, epoch, test_preds,dev_pred = main()\n"
      ],
      "metadata": {
        "id": "pBE9lbB4s5Yf",
        "colab": {
          "base_uri": "https://localhost:8080/"
        },
        "outputId": "cd7d9d4d-b429-4c58-b255-bfd402a379ac"
      },
      "id": "pBE9lbB4s5Yf",
      "execution_count": 11,
      "outputs": [
        {
          "output_type": "stream",
          "name": "stdout",
          "text": [
            "Epoch: 0 Rmse loss: 2.826813806075906 Batch Loss: 9.920897879324366\n",
            "Epoch: 1 Rmse loss: 2.7218540496086043 Batch Loss: 9.827166253305188\n",
            "Epoch: 2 Rmse loss: 2.6375730548169547 Batch Loss: 9.738424697650872\n",
            "Epoch: 3 Rmse loss: 2.5552853908305653 Batch Loss: 9.651281472846788\n",
            "Epoch: 4 Rmse loss: 2.4750622072787367 Batch Loss: 9.565686282339001\n",
            "Epoch: 5 Rmse loss: 2.397001506977693 Batch Loss: 9.481595556395416\n",
            "Epoch: 6 Rmse loss: 2.321187503825746 Batch Loss: 9.398964618595384\n",
            "Epoch: 7 Rmse loss: 2.24768399021791 Batch Loss: 9.317746766515706\n",
            "Epoch: 8 Rmse loss: 2.1765328635276453 Batch Loss: 9.237893689687064\n",
            "Epoch: 9 Rmse loss: 2.1077555777922545 Batch Loss: 9.159356131516946\n",
            "Epoch: 10 Rmse loss: 2.041354648166846 Batch Loss: 9.082084295431711\n",
            "Epoch: 11 Rmse loss: 1.9773179372469964 Batch Loss: 9.006028833622919\n",
            "Epoch: 12 Rmse loss: 1.9156210003281429 Batch Loss: 8.931141616114806\n",
            "Epoch: 13 Rmse loss: 1.8562322342001742 Batch Loss: 8.85737600980494\n",
            "Epoch: 14 Rmse loss: 1.7990966800402464 Batch Loss: 8.784684972194972\n",
            "Epoch: 15 Rmse loss: 1.7441610707638824 Batch Loss: 8.713024742809543\n",
            "Epoch: 16 Rmse loss: 1.6913662659530406 Batch Loss: 8.6423536081586\n",
            "Epoch: 17 Rmse loss: 1.6406487006581132 Batch Loss: 8.572631768277493\n",
            "Epoch: 18 Rmse loss: 1.591941651708691 Batch Loss: 8.503821595389445\n",
            "Epoch: 19 Rmse loss: 1.5451763062690198 Batch Loss: 8.435887754163696\n",
            "Epoch: 20 Rmse loss: 1.5002826860090308 Batch Loss: 8.368796599152232\n",
            "Epoch: 21 Rmse loss: 1.457190409280686 Batch Loss: 8.302516505983416\n",
            "Epoch: 22 Rmse loss: 1.415829328031425 Batch Loss: 8.237017837010542\n",
            "Epoch: 23 Rmse loss: 1.376130046984728 Batch Loss: 8.172273239657883\n",
            "Epoch: 24 Rmse loss: 1.3380243411123627 Batch Loss: 8.10825691870516\n",
            "Epoch: 25 Rmse loss: 1.3014454733629701 Batch Loss: 8.044944597425548\n",
            "Epoch: 26 Rmse loss: 1.266328473940411 Batch Loss: 7.982313826216292\n",
            "Epoch: 27 Rmse loss: 1.232610318335903 Batch Loss: 7.920343615434232\n",
            "Epoch: 28 Rmse loss: 1.2002300522671006 Batch Loss: 7.859013437827874\n",
            "Epoch: 29 Rmse loss: 1.1691288692896622 Batch Loss: 7.798305601591518\n",
            "Epoch: 30 Rmse loss: 1.1392502141320566 Batch Loss: 7.738202314393542\n",
            "Epoch: 31 Rmse loss: 1.1105397644018242 Batch Loss: 7.678687603933952\n",
            "Epoch: 32 Rmse loss: 1.0829454584940865 Batch Loss: 7.619746902374856\n",
            "Epoch: 33 Rmse loss: 1.056417463119565 Batch Loss: 7.5613662356271805\n",
            "Epoch: 34 Rmse loss: 1.0309081317541737 Batch Loss: 7.5035324545074555\n",
            "Epoch: 35 Rmse loss: 1.0063719483923435 Batch Loss: 7.446233338812223\n",
            "Epoch: 36 Rmse loss: 0.9827654870569549 Batch Loss: 7.3894572361137705\n",
            "Epoch: 37 Rmse loss: 0.9600473485567679 Batch Loss: 7.33319332430082\n",
            "Epoch: 38 Rmse loss: 0.9381780697775404 Batch Loss: 7.277431233260639\n",
            "Epoch: 39 Rmse loss: 0.9171200749179589 Batch Loss: 7.222160556404262\n",
            "Epoch: 40 Rmse loss: 0.8968524316392458 Batch Loss: 7.1673739687935125\n",
            "Epoch: 41 Rmse loss: 0.877337370071208 Batch Loss: 7.1130626202235705\n",
            "Epoch: 42 Rmse loss: 0.8585405296793317 Batch Loss: 7.059217257430473\n",
            "Epoch: 43 Rmse loss: 0.8404185655562539 Batch Loss: 7.005829254870045\n",
            "Epoch: 44 Rmse loss: 0.8229407342706458 Batch Loss: 6.9528916751891\n",
            "Epoch: 45 Rmse loss: 0.8060800470573773 Batch Loss: 6.900397352132609\n",
            "Epoch: 46 Rmse loss: 0.7898107858015714 Batch Loss: 6.848339530129399\n",
            "Epoch: 47 Rmse loss: 0.7741091591069716 Batch Loss: 6.7967115292072515\n",
            "Epoch: 48 Rmse loss: 0.7589531192635666 Batch Loss: 6.74550757439217\n",
            "Epoch: 49 Rmse loss: 0.7443210824436394 Batch Loss: 6.694721770073655\n",
            "Epoch: 50 Rmse loss: 0.7301936410522597 Batch Loss: 6.644348317085658\n",
            "Epoch: 51 Rmse loss: 0.7165452939064425 Batch Loss: 6.594382078810158\n",
            "Epoch: 52 Rmse loss: 0.7033557124594625 Batch Loss: 6.544817692186453\n",
            "Epoch: 53 Rmse loss: 0.6906040247737593 Batch Loss: 6.4956507504592285\n",
            "Epoch: 54 Rmse loss: 0.6782755940659755 Batch Loss: 6.446875946874866\n",
            "Epoch: 55 Rmse loss: 0.6663522785348942 Batch Loss: 6.398488935305069\n",
            "Epoch: 56 Rmse loss: 0.6548179532446557 Batch Loss: 6.350485423733655\n",
            "Epoch: 57 Rmse loss: 0.6436612261158996 Batch Loss: 6.302861239450006\n",
            "Epoch: 58 Rmse loss: 0.6328656389145533 Batch Loss: 6.255611772545488\n",
            "Epoch: 59 Rmse loss: 0.6224142110405971 Batch Loss: 6.208733309334496\n",
            "Epoch: 60 Rmse loss: 0.6122950960289326 Batch Loss: 6.162222118240624\n",
            "Epoch: 61 Rmse loss: 0.6025000379223292 Batch Loss: 6.116074610440101\n",
            "Epoch: 62 Rmse loss: 0.5930129994454514 Batch Loss: 6.070286630695451\n",
            "Epoch: 63 Rmse loss: 0.5838203059640819 Batch Loss: 6.024855033224417\n",
            "Epoch: 64 Rmse loss: 0.5749130689097651 Batch Loss: 5.979776070683924\n",
            "Epoch: 65 Rmse loss: 0.5662800732567682 Batch Loss: 5.935046465961309\n",
            "Epoch: 66 Rmse loss: 0.557912245549328 Batch Loss: 5.890662832502713\n",
            "Epoch: 67 Rmse loss: 0.5497959767537921 Batch Loss: 5.846622720914405\n",
            "Epoch: 68 Rmse loss: 0.5419237826872222 Batch Loss: 5.802922948886416\n",
            "Epoch: 69 Rmse loss: 0.5342915162564233 Batch Loss: 5.759559489674122\n",
            "Epoch: 70 Rmse loss: 0.5268866360210414 Batch Loss: 5.716530334746114\n",
            "Epoch: 71 Rmse loss: 0.5196998869989102 Batch Loss: 5.673832673437314\n",
            "Epoch: 72 Rmse loss: 0.5127245404449414 Batch Loss: 5.63146367155148\n",
            "Epoch: 73 Rmse loss: 0.5059546912733794 Batch Loss: 5.5894206191531675\n",
            "Epoch: 74 Rmse loss: 0.4993836900580143 Batch Loss: 5.547701105271844\n",
            "Epoch: 75 Rmse loss: 0.4930027113210411 Batch Loss: 5.506303107612728\n",
            "Epoch: 76 Rmse loss: 0.48680094080363584 Batch Loss: 5.465225282012477\n",
            "Epoch: 77 Rmse loss: 0.4807732179529668 Batch Loss: 5.424466052478806\n",
            "Epoch: 78 Rmse loss: 0.4749137206822021 Batch Loss: 5.3840227472908175\n",
            "Epoch: 79 Rmse loss: 0.4692270759774899 Batch Loss: 5.343894256639628\n",
            "Epoch: 80 Rmse loss: 0.4638400987384968 Batch Loss: 5.304083716134979\n",
            "Epoch: 81 Rmse loss: 0.45861235436977815 Batch Loss: 5.264582565786549\n",
            "Epoch: 82 Rmse loss: 0.4534976700876116 Batch Loss: 5.225388619328536\n",
            "Epoch: 83 Rmse loss: 0.44850730968781477 Batch Loss: 5.186499248065998\n",
            "Epoch: 84 Rmse loss: 0.44366606760715455 Batch Loss: 5.147910292358155\n",
            "Epoch: 85 Rmse loss: 0.43894214792407515 Batch Loss: 5.109618887816479\n",
            "Epoch: 86 Rmse loss: 0.4343205631531823 Batch Loss: 5.071622172066336\n",
            "Epoch: 87 Rmse loss: 0.4298139396778315 Batch Loss: 5.033915527577552\n",
            "Epoch: 88 Rmse loss: 0.4254166030515828 Batch Loss: 4.996497037530984\n",
            "Epoch: 89 Rmse loss: 0.4211405523724575 Batch Loss: 4.959364126284423\n",
            "Epoch: 90 Rmse loss: 0.41697222336883094 Batch Loss: 4.922513686225727\n",
            "Epoch: 91 Rmse loss: 0.41291489069421655 Batch Loss: 4.885942633546672\n",
            "Epoch: 92 Rmse loss: 0.4089603588060799 Batch Loss: 4.849649470344887\n",
            "Epoch: 93 Rmse loss: 0.4051080787870287 Batch Loss: 4.81363165872342\n",
            "Epoch: 94 Rmse loss: 0.40135518338816145 Batch Loss: 4.777887041742085\n",
            "Epoch: 95 Rmse loss: 0.39770278011521365 Batch Loss: 4.742413337010599\n",
            "Epoch: 96 Rmse loss: 0.3941557968220357 Batch Loss: 4.707208070191743\n",
            "Epoch: 97 Rmse loss: 0.390699426234658 Batch Loss: 4.672269663512319\n",
            "Epoch: 98 Rmse loss: 0.3873322972466082 Batch Loss: 4.637595943968137\n",
            "Epoch: 99 Rmse loss: 0.384056250065384 Batch Loss: 4.603185100512182\n",
            "RMSE on dev data: 5.03249\n"
          ]
        }
      ]
    },
    {
      "cell_type": "code",
      "source": [
        "preds = test_preds*(2010-1922)+1922\n",
        "predf=pd.DataFrame(preds,columns=['Predictions'])"
      ],
      "metadata": {
        "id": "tSdWgbKAGbdE"
      },
      "id": "tSdWgbKAGbdE",
      "execution_count": 12,
      "outputs": []
    },
    {
      "cell_type": "code",
      "source": [
        "predf.describe()"
      ],
      "metadata": {
        "colab": {
          "base_uri": "https://localhost:8080/",
          "height": 300
        },
        "id": "Q17cvySAWVRs",
        "outputId": "e9b2d841-04a0-49df-ac8a-020c87a19cd3"
      },
      "id": "Q17cvySAWVRs",
      "execution_count": 13,
      "outputs": [
        {
          "output_type": "execute_result",
          "data": {
            "text/plain": [
              "       Predictions\n",
              "count  5100.000000\n",
              "mean   1992.272859\n",
              "std       0.098088\n",
              "min    1990.997019\n",
              "25%    1992.301932\n",
              "50%    1992.301932\n",
              "75%    1992.301932\n",
              "max    1992.301932"
            ],
            "text/html": [
              "\n",
              "  <div id=\"df-24b11ab1-ba43-480f-a7ab-92f0f3a5a3a1\">\n",
              "    <div class=\"colab-df-container\">\n",
              "      <div>\n",
              "<style scoped>\n",
              "    .dataframe tbody tr th:only-of-type {\n",
              "        vertical-align: middle;\n",
              "    }\n",
              "\n",
              "    .dataframe tbody tr th {\n",
              "        vertical-align: top;\n",
              "    }\n",
              "\n",
              "    .dataframe thead th {\n",
              "        text-align: right;\n",
              "    }\n",
              "</style>\n",
              "<table border=\"1\" class=\"dataframe\">\n",
              "  <thead>\n",
              "    <tr style=\"text-align: right;\">\n",
              "      <th></th>\n",
              "      <th>Predictions</th>\n",
              "    </tr>\n",
              "  </thead>\n",
              "  <tbody>\n",
              "    <tr>\n",
              "      <th>count</th>\n",
              "      <td>5100.000000</td>\n",
              "    </tr>\n",
              "    <tr>\n",
              "      <th>mean</th>\n",
              "      <td>1992.272859</td>\n",
              "    </tr>\n",
              "    <tr>\n",
              "      <th>std</th>\n",
              "      <td>0.098088</td>\n",
              "    </tr>\n",
              "    <tr>\n",
              "      <th>min</th>\n",
              "      <td>1990.997019</td>\n",
              "    </tr>\n",
              "    <tr>\n",
              "      <th>25%</th>\n",
              "      <td>1992.301932</td>\n",
              "    </tr>\n",
              "    <tr>\n",
              "      <th>50%</th>\n",
              "      <td>1992.301932</td>\n",
              "    </tr>\n",
              "    <tr>\n",
              "      <th>75%</th>\n",
              "      <td>1992.301932</td>\n",
              "    </tr>\n",
              "    <tr>\n",
              "      <th>max</th>\n",
              "      <td>1992.301932</td>\n",
              "    </tr>\n",
              "  </tbody>\n",
              "</table>\n",
              "</div>\n",
              "      <button class=\"colab-df-convert\" onclick=\"convertToInteractive('df-24b11ab1-ba43-480f-a7ab-92f0f3a5a3a1')\"\n",
              "              title=\"Convert this dataframe to an interactive table.\"\n",
              "              style=\"display:none;\">\n",
              "        \n",
              "  <svg xmlns=\"http://www.w3.org/2000/svg\" height=\"24px\"viewBox=\"0 0 24 24\"\n",
              "       width=\"24px\">\n",
              "    <path d=\"M0 0h24v24H0V0z\" fill=\"none\"/>\n",
              "    <path d=\"M18.56 5.44l.94 2.06.94-2.06 2.06-.94-2.06-.94-.94-2.06-.94 2.06-2.06.94zm-11 1L8.5 8.5l.94-2.06 2.06-.94-2.06-.94L8.5 2.5l-.94 2.06-2.06.94zm10 10l.94 2.06.94-2.06 2.06-.94-2.06-.94-.94-2.06-.94 2.06-2.06.94z\"/><path d=\"M17.41 7.96l-1.37-1.37c-.4-.4-.92-.59-1.43-.59-.52 0-1.04.2-1.43.59L10.3 9.45l-7.72 7.72c-.78.78-.78 2.05 0 2.83L4 21.41c.39.39.9.59 1.41.59.51 0 1.02-.2 1.41-.59l7.78-7.78 2.81-2.81c.8-.78.8-2.07 0-2.86zM5.41 20L4 18.59l7.72-7.72 1.47 1.35L5.41 20z\"/>\n",
              "  </svg>\n",
              "      </button>\n",
              "      \n",
              "  <style>\n",
              "    .colab-df-container {\n",
              "      display:flex;\n",
              "      flex-wrap:wrap;\n",
              "      gap: 12px;\n",
              "    }\n",
              "\n",
              "    .colab-df-convert {\n",
              "      background-color: #E8F0FE;\n",
              "      border: none;\n",
              "      border-radius: 50%;\n",
              "      cursor: pointer;\n",
              "      display: none;\n",
              "      fill: #1967D2;\n",
              "      height: 32px;\n",
              "      padding: 0 0 0 0;\n",
              "      width: 32px;\n",
              "    }\n",
              "\n",
              "    .colab-df-convert:hover {\n",
              "      background-color: #E2EBFA;\n",
              "      box-shadow: 0px 1px 2px rgba(60, 64, 67, 0.3), 0px 1px 3px 1px rgba(60, 64, 67, 0.15);\n",
              "      fill: #174EA6;\n",
              "    }\n",
              "\n",
              "    [theme=dark] .colab-df-convert {\n",
              "      background-color: #3B4455;\n",
              "      fill: #D2E3FC;\n",
              "    }\n",
              "\n",
              "    [theme=dark] .colab-df-convert:hover {\n",
              "      background-color: #434B5C;\n",
              "      box-shadow: 0px 1px 3px 1px rgba(0, 0, 0, 0.15);\n",
              "      filter: drop-shadow(0px 1px 2px rgba(0, 0, 0, 0.3));\n",
              "      fill: #FFFFFF;\n",
              "    }\n",
              "  </style>\n",
              "\n",
              "      <script>\n",
              "        const buttonEl =\n",
              "          document.querySelector('#df-24b11ab1-ba43-480f-a7ab-92f0f3a5a3a1 button.colab-df-convert');\n",
              "        buttonEl.style.display =\n",
              "          google.colab.kernel.accessAllowed ? 'block' : 'none';\n",
              "\n",
              "        async function convertToInteractive(key) {\n",
              "          const element = document.querySelector('#df-24b11ab1-ba43-480f-a7ab-92f0f3a5a3a1');\n",
              "          const dataTable =\n",
              "            await google.colab.kernel.invokeFunction('convertToInteractive',\n",
              "                                                     [key], {});\n",
              "          if (!dataTable) return;\n",
              "\n",
              "          const docLinkHtml = 'Like what you see? Visit the ' +\n",
              "            '<a target=\"_blank\" href=https://colab.research.google.com/notebooks/data_table.ipynb>data table notebook</a>'\n",
              "            + ' to learn more about interactive tables.';\n",
              "          element.innerHTML = '';\n",
              "          dataTable['output_type'] = 'display_data';\n",
              "          await google.colab.output.renderOutput(dataTable, element);\n",
              "          const docLink = document.createElement('div');\n",
              "          docLink.innerHTML = docLinkHtml;\n",
              "          element.appendChild(docLink);\n",
              "        }\n",
              "      </script>\n",
              "    </div>\n",
              "  </div>\n",
              "  "
            ]
          },
          "metadata": {},
          "execution_count": 13
        }
      ]
    },
    {
      "cell_type": "code",
      "source": [
        "#predf.to_csv('/content/drive/MyDrive/testresults.xlsx',index = False)"
      ],
      "metadata": {
        "id": "yWL5t9gKR5y2"
      },
      "id": "yWL5t9gKR5y2",
      "execution_count": null,
      "outputs": []
    },
    {
      "cell_type": "code",
      "execution_count": null,
      "id": "4d6ec1fc",
      "metadata": {
        "id": "4d6ec1fc"
      },
      "outputs": [],
      "source": [
        "import matplotlib.pyplot as plt"
      ]
    },
    {
      "cell_type": "code",
      "execution_count": null,
      "id": "e0538643",
      "metadata": {
        "colab": {
          "base_uri": "https://localhost:8080/",
          "height": 312
        },
        "id": "e0538643",
        "outputId": "e9fdb422-68bf-4b28-8f69-82275e96298c"
      },
      "outputs": [
        {
          "output_type": "execute_result",
          "data": {
            "text/plain": [
              "Text(0.5, 1.0, 'Loss vs Epoch for batch size = 64')"
            ]
          },
          "metadata": {},
          "execution_count": 130
        },
        {
          "output_type": "display_data",
          "data": {
            "text/plain": [
              "<Figure size 432x288 with 1 Axes>"
            ],
            "image/png": "[encoded data removed]"
          },
          "metadata": {
            "needs_background": "light"
          }
        }
      ],
      "source": [
        "plt.plot(epoch, bt_loss)\n",
        "plt.xlabel('Epochs')\n",
        "plt.ylabel('Batchloss')\n",
        "plt.title(\"Loss vs Epoch for batch size = 64\")"
      ]
    },
    {
      "cell_type": "code",
      "source": [
        "train_input, train_target, dev_input, dev_target, test_input = read_data()\n",
        "\n",
        "print(test_input)\n",
        "print(net)"
      ],
      "metadata": {
        "colab": {
          "base_uri": "https://localhost:8080/"
        },
        "id": "leyNawRqzxON",
        "outputId": "abd95706-6330-4ef9-fc84-be3b8483b551"
      },
      "id": "leyNawRqzxON",
      "execution_count": null,
      "outputs": [
        {
          "output_type": "stream",
          "name": "stdout",
          "text": [
            "[[  39.74101   15.36065    8.31249 ...    1.27488  424.14859   21.03857]\n",
            " [  38.01087  -58.38573  -57.76662 ...   75.99168   84.6795   -34.72883]\n",
            " [  36.94025 -101.4874    34.19856 ...   -2.039    -78.53343    2.14682]\n",
            " ...\n",
            " [  35.57222  -33.67729   -9.54801 ...   -2.18869  111.36082    5.32812]\n",
            " [  47.61959    5.5825    26.91684 ...    9.32908   47.60612   -7.99566]\n",
            " [  42.01372   77.59201  -16.88436 ...   18.23418 -127.31246  -11.23811]]\n",
            "<__main__.Net object at 0x7fb02b89bf50>\n"
          ]
        }
      ]
    },
    {
      "cell_type": "code",
      "source": [
        "test_preds = test_preds*2010"
      ],
      "metadata": {
        "id": "JKVi-Uj_1B5W"
      },
      "id": "JKVi-Uj_1B5W",
      "execution_count": null,
      "outputs": []
    },
    {
      "cell_type": "code",
      "source": [
        "print(test_preds[0])"
      ],
      "metadata": {
        "colab": {
          "base_uri": "https://localhost:8080/"
        },
        "id": "t004w94W3-pe",
        "outputId": "1bfaa3c2-da53-4eac-b911-3c2553ebfffc"
      },
      "id": "t004w94W3-pe",
      "execution_count": null,
      "outputs": [
        {
          "output_type": "stream",
          "name": "stdout",
          "text": [
            "[0.]\n"
          ]
        }
      ]
    },
    {
      "cell_type": "code",
      "source": [],
      "metadata": {
        "id": "CAXN9yvqGNoV"
      },
      "id": "CAXN9yvqGNoV",
      "execution_count": null,
      "outputs": []
    }
  ],
  "metadata": {
    "kernelspec": {
      "display_name": "Python 3 (ipykernel)",
      "language": "python",
      "name": "python3"
    },
    "language_info": {
      "codemirror_mode": {
        "name": "ipython",
        "version": 3
      },
      "file_extension": ".py",
      "mimetype": "text/x-python",
      "name": "python",
      "nbconvert_exporter": "python",
      "pygments_lexer": "ipython3",
      "version": "3.9.12"
    },
    "colab": {
      "provenance": [],
      "collapsed_sections": []
    }
  },
  "nbformat": 4,
  "nbformat_minor": 5
}